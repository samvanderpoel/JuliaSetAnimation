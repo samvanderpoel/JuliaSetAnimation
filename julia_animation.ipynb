{
 "cells": [
  {
   "cell_type": "markdown",
   "metadata": {},
   "source": [
    "# Generating Images and Animations of Julia sets"
   ]
  },
  {
   "cell_type": "markdown",
   "metadata": {},
   "source": [
    "## Create individual Julia fractal"
   ]
  },
  {
   "cell_type": "code",
   "execution_count": null,
   "metadata": {},
   "outputs": [],
   "source": [
    "import numpy as np\n",
    "import matplotlib.pyplot as plt\n",
    "import matplotlib.cm as cm\n",
    "import os\n",
    "\n",
    "cwd = os.getcwd()\n",
    "mypath = cwd + '/julia_imgs'\n",
    "if not os.path.isdir(mypath):\n",
    "    os.makedirs(mypath)\n",
    "\n",
    "# Image width and height; parameters for the plot\n",
    "im_width, im_height = 600, 600\n",
    "c = complex(-0.1, 0.65)\n",
    "zabs_max = 10\n",
    "nit_max = 10000\n",
    "xmin, xmax = -0.9, 0.9\n",
    "xwidth = xmax - xmin\n",
    "ymin, ymax = -0.9, 0.9\n",
    "yheight = ymax - ymin\n",
    "\n",
    "julia = np.zeros((im_width, im_height))\n",
    "for ix in range(im_width):\n",
    "    for iy in range(im_height):\n",
    "        nit = 0\n",
    "        # Map pixel position to a point in the complex plane\n",
    "        z = complex(ix / im_width * xwidth + xmin,\n",
    "                    iy / im_height * yheight + ymin)\n",
    "        # Do the iterations\n",
    "        while abs(z) <= zabs_max and nit < nit_max:\n",
    "            z = z**2 + c\n",
    "            nit += 1\n",
    "        shade = 1-np.sqrt(nit / nit_max)\n",
    "        ratio = nit / nit_max\n",
    "        julia[ix,iy] = ratio\n",
    "\n",
    "fig, ax = plt.subplots(figsize=(15,15),dpi=100)\n",
    "ax.imshow(julia, interpolation='nearest', cmap=cm.prism)\n",
    "# Set the tick labels to the coordinates of z0 in the complex plane\n",
    "xtick_labels = np.linspace(xmin, xmax, xwidth / 0.5)\n",
    "ax.set_xticks([(x-xmin) / xwidth * im_width for x in xtick_labels])\n",
    "ax.set_xticklabels(['{:.1f}'.format(xtick) for xtick in xtick_labels])\n",
    "ytick_labels = np.linspace(ymin, ymax, yheight / 0.5)\n",
    "ax.set_yticks([(y-ymin) / yheight * im_height for y in ytick_labels])\n",
    "ax.set_yticklabels(['{:.1f}'.format(ytick) for ytick in ytick_labels])\n",
    "plt.savefig('julia_imgs/new0')\n"
   ]
  },
  {
   "cell_type": "markdown",
   "metadata": {},
   "source": [
    "## Create a sequence of Julia fractals for animation"
   ]
  },
  {
   "cell_type": "code",
   "execution_count": null,
   "metadata": {
    "scrolled": true
   },
   "outputs": [],
   "source": [
    "import numpy as np\n",
    "import matplotlib.pyplot as plt\n",
    "import matplotlib.cm as cm\n",
    "import os\n",
    "\n",
    "cwd = os.getcwd()\n",
    "mypath = cwd + '/julia_imgs'\n",
    "if not os.path.isdir(mypath):\n",
    "    os.makedirs(mypath)\n",
    "\n",
    "for ind, exp in enumerate(np.linspace(1.80, 2.00, 80)):\n",
    "    # Image width and height; parameters for the plot\n",
    "    im_width, im_height = 600, 600\n",
    "    c = complex(-0.1, 0.65)\n",
    "    zabs_max = 10\n",
    "    nit_max = 10000\n",
    "    xmin, xmax = -0.9, 0.9\n",
    "    xwidth = xmax - xmin\n",
    "    ymin, ymax = -0.9, 0.9\n",
    "    yheight = ymax - ymin\n",
    "\n",
    "    julia = np.zeros((im_width, im_height))\n",
    "    for ix in range(im_width):\n",
    "        for iy in range(im_height):\n",
    "            nit = 0\n",
    "            # Map pixel position to a point in the complex plane\n",
    "            z = complex(ix / im_width * xwidth + xmin,\n",
    "                        iy / im_height * yheight + ymin)\n",
    "            # Do the iterations\n",
    "            while abs(z) <= zabs_max and nit < nit_max:\n",
    "                z = z**exp + c\n",
    "                nit += 1\n",
    "            shade = 1-np.sqrt(nit / nit_max)\n",
    "            ratio = nit / nit_max\n",
    "            julia[ix,iy] = ratio\n",
    "\n",
    "    fig, ax = plt.subplots(figsize=(15,15),dpi=100)\n",
    "    ax.imshow(julia, interpolation='nearest', cmap=cm.prism)\n",
    "    # Set the tick labels to the coordinates of z0 in the complex plane\n",
    "    xtick_labels = np.linspace(xmin, xmax, xwidth / 0.5)\n",
    "    ax.set_xticks([(x-xmin) / xwidth * im_width for x in xtick_labels])\n",
    "    ax.set_xticklabels(['{:.1f}'.format(xtick) for xtick in xtick_labels])\n",
    "    ytick_labels = np.linspace(ymin, ymax, yheight / 0.5)\n",
    "    ax.set_yticks([(y-ymin) / yheight * im_height for y in ytick_labels])\n",
    "    ax.set_yticklabels(['{:.1f}'.format(ytick) for ytick in ytick_labels])\n",
    "    plt.savefig('julia_imgs/'+str(ind)+'.png')\n"
   ]
  },
  {
   "cell_type": "markdown",
   "metadata": {},
   "source": [
    "## Create animation from a set of existing Julia fractals"
   ]
  },
  {
   "cell_type": "code",
   "execution_count": null,
   "metadata": {},
   "outputs": [],
   "source": [
    "import cv2\n",
    "\n",
    "img=[]\n",
    "\n",
    "num_cycles = 2\n",
    "for cyc in range(0, num_cycles):\n",
    "    for ind in range(0, 80):\n",
    "        img.append(cv2.imread('julia_imgs/'+str(ind)+'.png'))\n",
    "    for ind in range(0, 80):\n",
    "        img.append(cv2.imread('julia_imgs/'+str(79-ind)+'.png'))\n",
    "\n",
    "height, width, layers = img[0].shape\n",
    "\n",
    "fourcc = cv2.VideoWriter_fourcc(*'MP4V') \n",
    "video=cv2.VideoWriter('video2.mp4', fourcc, 15, (width, height))\n",
    "\n",
    "for j in range(0, num_cycles*160):\n",
    "    video.write(img[j])\n",
    "\n",
    "cv2.destroyAllWindows()\n",
    "video.release()"
   ]
  },
  {
   "cell_type": "code",
   "execution_count": null,
   "metadata": {},
   "outputs": [],
   "source": []
  }
 ],
 "metadata": {
  "kernelspec": {
   "display_name": "Python 3",
   "language": "python",
   "name": "python3"
  },
  "language_info": {
   "codemirror_mode": {
    "name": "ipython",
    "version": 3
   },
   "file_extension": ".py",
   "mimetype": "text/x-python",
   "name": "python",
   "nbconvert_exporter": "python",
   "pygments_lexer": "ipython3",
   "version": "3.7.4"
  }
 },
 "nbformat": 4,
 "nbformat_minor": 2
}
